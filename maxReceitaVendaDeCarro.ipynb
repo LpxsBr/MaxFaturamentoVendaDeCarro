{
  "nbformat": 4,
  "nbformat_minor": 0,
  "metadata": {
    "colab": {
      "provenance": [],
      "authorship_tag": "ABX9TyMYbAQzZ2FrhxoLPmTFhnTl",
      "include_colab_link": true
    },
    "kernelspec": {
      "name": "python3",
      "display_name": "Python 3"
    },
    "language_info": {
      "name": "python"
    }
  },
  "cells": [
    {
      "cell_type": "markdown",
      "metadata": {
        "id": "view-in-github",
        "colab_type": "text"
      },
      "source": [
        "<a href=\"https://colab.research.google.com/github/LpxsBr/MaxFaturamentoVendaDeCarro/blob/main/maxReceitaVendaDeCarro.ipynb\" target=\"_parent\"><img src=\"https://colab.research.google.com/assets/colab-badge.svg\" alt=\"Open In Colab\"/></a>"
      ]
    },
    {
      "cell_type": "code",
      "execution_count": 31,
      "metadata": {
        "colab": {
          "base_uri": "https://localhost:8080/"
        },
        "id": "K22pWpZOccXx",
        "outputId": "cc7da6d4-03da-4a88-ca50-7ec72ce13f44"
      },
      "outputs": [
        {
          "output_type": "stream",
          "name": "stdout",
          "text": [
            "Looking in indexes: https://pypi.org/simple, https://us-python.pkg.dev/colab-wheels/public/simple/\n",
            "Requirement already satisfied: pyomo in /usr/local/lib/python3.10/dist-packages (6.6.0)\n",
            "Requirement already satisfied: ply in /usr/local/lib/python3.10/dist-packages (from pyomo) (3.11)\n"
          ]
        }
      ],
      "source": [
        "!pip install pyomo"
      ]
    },
    {
      "cell_type": "code",
      "source": [
        "!apt-get install -y -qq glpk-utils"
      ],
      "metadata": {
        "id": "QI2YhGjenV8N"
      },
      "execution_count": null,
      "outputs": []
    },
    {
      "cell_type": "code",
      "source": [
        "import pyomo.environ as pyv"
      ],
      "metadata": {
        "id": "4fFnFACIlj1j"
      },
      "execution_count": null,
      "outputs": []
    },
    {
      "cell_type": "code",
      "source": [
        "# modelo\n",
        "\n",
        "'''\n",
        "maximizar receita na venda de carros\n",
        "\n",
        "preço do carro x1 = 1000\n",
        "preço do carro x2 = 2000\n",
        "tamanho do patio = 40\n",
        "\n",
        "'''"
      ],
      "metadata": {
        "colab": {
          "base_uri": "https://localhost:8080/",
          "height": 35
        },
        "id": "ADegPcqIp4xR",
        "outputId": "e5aa4f2a-2ad9-42a3-f8da-de413520c45b"
      },
      "execution_count": 32,
      "outputs": [
        {
          "output_type": "execute_result",
          "data": {
            "text/plain": [
              "'\\nmaximizar receita na venda de carros\\n\\npreço do carro x1 = 1000\\npreço do carro x2 = 2000\\ntamanho do patio = 40\\n\\n'"
            ],
            "application/vnd.google.colaboratory.intrinsic+json": {
              "type": "string"
            }
          },
          "metadata": {},
          "execution_count": 32
        }
      ]
    },
    {
      "cell_type": "code",
      "source": [
        "# defining model\n",
        "model = pyv.ConcreteModel()"
      ],
      "metadata": {
        "id": "7MDfH2B5mkBQ"
      },
      "execution_count": null,
      "outputs": []
    },
    {
      "cell_type": "code",
      "source": [
        "# defining auxiliar\n",
        "priceCar1 = 180000\n",
        "priceCar2 = 210000\n",
        "priceCar3 = 250000\n",
        "priceCar4 = 350000\n",
        "priceCar5 = 260000\n",
        "placeLimit = 40"
      ],
      "metadata": {
        "id": "w4X5VOLwm2LO"
      },
      "execution_count": null,
      "outputs": []
    },
    {
      "cell_type": "code",
      "source": [
        "# defining variables\n",
        "model.x1 = pyv.Var(initialize=1, domain=pyv.NonNegativeReals)\n",
        "model.x2 = pyv.Var(initialize=1, domain=pyv.NonNegativeReals)\n",
        "model.x3 = pyv.Var(initialize=1, domain=pyv.NonNegativeReals)\n",
        "model.x4 = pyv.Var(initialize=1, domain=pyv.NonNegativeReals)\n",
        "model.x5 = pyv.Var(initialize=1, domain=pyv.NonNegativeReals)"
      ],
      "metadata": {
        "id": "0EFX8mRHs_do"
      },
      "execution_count": null,
      "outputs": []
    },
    {
      "cell_type": "code",
      "source": [
        "# declaring objective function\n",
        "z = (priceCar1 * model.x1) + (priceCar2 * model.x2) + (priceCar3 * model.x3) + (priceCar4 * model.x4) + (priceCar5 * model.x5)\n",
        "\n",
        "model.z = pyv.Objective(expr=z, sense=pyv.maximize)"
      ],
      "metadata": {
        "colab": {
          "base_uri": "https://localhost:8080/"
        },
        "id": "vY5DVO_Nq35q",
        "outputId": "ddb58311-e634-4e13-8e8d-82827e9f3586"
      },
      "execution_count": null,
      "outputs": [
        {
          "output_type": "stream",
          "name": "stderr",
          "text": [
            "WARNING:pyomo.core:Implicitly replacing the Component attribute z (type=<class 'pyomo.core.base.objective.ScalarObjective'>) on block unknown with a new Component (type=<class 'pyomo.core.base.objective.ScalarObjective'>).\n",
            "This is usually indicative of a modelling error.\n",
            "To avoid this warning, use block.del_component() and block.add_component().\n"
          ]
        }
      ]
    },
    {
      "cell_type": "code",
      "source": [
        "# constraints\n",
        "const1 = model.x1 + model.x2 + model.x3 + model.x4 + model.x5 <= placeLimit\n",
        "model.const1 = pyv.Constraint(expr = const1)"
      ],
      "metadata": {
        "colab": {
          "base_uri": "https://localhost:8080/"
        },
        "id": "2CSIDZ-gvPuO",
        "outputId": "9dd73265-998c-4173-bd1c-595f03e2c196"
      },
      "execution_count": null,
      "outputs": [
        {
          "output_type": "stream",
          "name": "stderr",
          "text": [
            "WARNING:pyomo.core:Implicitly replacing the Component attribute const1 (type=<class 'pyomo.core.base.constraint.ScalarConstraint'>) on block unknown with a new Component (type=<class 'pyomo.core.base.constraint.AbstractScalarConstraint'>).\n",
            "This is usually indicative of a modelling error.\n",
            "To avoid this warning, use block.del_component() and block.add_component().\n"
          ]
        }
      ]
    },
    {
      "cell_type": "code",
      "source": [
        "model.display()"
      ],
      "metadata": {
        "colab": {
          "base_uri": "https://localhost:8080/"
        },
        "id": "23WnolEFvLaC",
        "outputId": "3cbbaf76-ab45-4cd7-d653-289e03cc9800"
      },
      "execution_count": null,
      "outputs": [
        {
          "output_type": "stream",
          "name": "stdout",
          "text": [
            "Model unknown\n",
            "\n",
            "  Variables:\n",
            "    x1 : Size=1, Index=None\n",
            "        Key  : Lower : Value : Upper : Fixed : Stale : Domain\n",
            "        None :     0 :     1 :  None : False : False : NonNegativeReals\n",
            "    x2 : Size=1, Index=None\n",
            "        Key  : Lower : Value : Upper : Fixed : Stale : Domain\n",
            "        None :     0 :     1 :  None : False : False : NonNegativeReals\n",
            "    x3 : Size=1, Index=None\n",
            "        Key  : Lower : Value : Upper : Fixed : Stale : Domain\n",
            "        None :     0 :     1 :  None : False : False : NonNegativeReals\n",
            "    x4 : Size=1, Index=None\n",
            "        Key  : Lower : Value : Upper : Fixed : Stale : Domain\n",
            "        None :     0 :     1 :  None : False : False : NonNegativeReals\n",
            "    x5 : Size=1, Index=None\n",
            "        Key  : Lower : Value : Upper : Fixed : Stale : Domain\n",
            "        None :     0 :     1 :  None : False : False : NonNegativeReals\n",
            "\n",
            "  Objectives:\n",
            "    z : Size=1, Index=None, Active=True\n",
            "        Key  : Active : Value\n",
            "        None :   True : 1250000\n",
            "\n",
            "  Constraints:\n",
            "    const1 : Size=1\n",
            "        Key  : Lower : Body : Upper\n",
            "        None :  None :    5 :  40.0\n"
          ]
        }
      ]
    },
    {
      "cell_type": "code",
      "source": [
        "solver = pyv.SolverFactory(\"glpk\")"
      ],
      "metadata": {
        "id": "sHqgOy5xv5z4"
      },
      "execution_count": null,
      "outputs": []
    },
    {
      "cell_type": "code",
      "source": [
        "results = solver.solve(model, tee=True)\n",
        "print(results)"
      ],
      "metadata": {
        "colab": {
          "base_uri": "https://localhost:8080/"
        },
        "id": "A4tbw0JSwAB9",
        "outputId": "a74b8a96-31a7-49b4-e209-159c37165cc8"
      },
      "execution_count": null,
      "outputs": [
        {
          "output_type": "stream",
          "name": "stdout",
          "text": [
            "GLPSOL: GLPK LP/MIP Solver, v4.65\n",
            "Parameter(s) specified in the command line:\n",
            " --write /tmp/tmpe2xmovxa.glpk.raw --wglp /tmp/tmpqbcnxxv5.glpk.glp --cpxlp\n",
            " /tmp/tmp0fr4zce6.pyomo.lp\n",
            "Reading problem data from '/tmp/tmp0fr4zce6.pyomo.lp'...\n",
            "1 row, 5 columns, 5 non-zeros\n",
            "27 lines were read\n",
            "Writing problem data to '/tmp/tmpqbcnxxv5.glpk.glp'...\n",
            "20 lines were written\n",
            "GLPK Simplex Optimizer, v4.65\n",
            "1 row, 5 columns, 5 non-zeros\n",
            "Preprocessing...\n",
            "1 row, 5 columns, 5 non-zeros\n",
            "Scaling...\n",
            " A: min|aij| =  1.000e+00  max|aij| =  1.000e+00  ratio =  1.000e+00\n",
            "Problem data seem to be well scaled\n",
            "Constructing initial basis...\n",
            "Size of triangular part is 1\n",
            "*     0: obj =  -0.000000000e+00 inf =   0.000e+00 (5)\n",
            "*     1: obj =   1.400000000e+07 inf =   0.000e+00 (0)\n",
            "OPTIMAL LP SOLUTION FOUND\n",
            "Time used:   0.0 secs\n",
            "Memory used: 0.0 Mb (39693 bytes)\n",
            "Writing basic solution to '/tmp/tmpe2xmovxa.glpk.raw'...\n",
            "15 lines were written\n",
            "\n",
            "Problem: \n",
            "- Name: unknown\n",
            "  Lower bound: 14000000.0\n",
            "  Upper bound: 14000000.0\n",
            "  Number of objectives: 1\n",
            "  Number of constraints: 1\n",
            "  Number of variables: 5\n",
            "  Number of nonzeros: 5\n",
            "  Sense: maximize\n",
            "Solver: \n",
            "- Status: ok\n",
            "  Termination condition: optimal\n",
            "  Statistics: \n",
            "    Branch and bound: \n",
            "      Number of bounded subproblems: 0\n",
            "      Number of created subproblems: 0\n",
            "  Error rc: 0\n",
            "  Time: 0.011114120483398438\n",
            "Solution: \n",
            "- number of solutions: 0\n",
            "  number of solutions displayed: 0\n",
            "\n"
          ]
        }
      ]
    },
    {
      "cell_type": "code",
      "source": [
        "a = model.z()\n",
        "print(a)\n"
      ],
      "metadata": {
        "colab": {
          "base_uri": "https://localhost:8080/"
        },
        "id": "eWvDp-A5x7kP",
        "outputId": "b9338b6a-bf2e-438b-e61d-6e4f562b6d5a"
      },
      "execution_count": null,
      "outputs": [
        {
          "output_type": "stream",
          "name": "stdout",
          "text": [
            "14000000.0\n"
          ]
        }
      ]
    },
    {
      "cell_type": "code",
      "source": [
        "print(results.keys())\n",
        "print(results.Solution.keys())\n",
        "print(results.Solution.variable)"
      ],
      "metadata": {
        "colab": {
          "base_uri": "https://localhost:8080/"
        },
        "id": "jgM47tCf0fzl",
        "outputId": "d0ee3cc7-bbf7-434e-8a79-36eabf334451"
      },
      "execution_count": null,
      "outputs": [
        {
          "output_type": "stream",
          "name": "stdout",
          "text": [
            "['Problem', 'Solver', 'Solution']\n",
            "['Gap', 'Status', 'Message', 'Problem', 'Objective', 'Variable', 'Constraint']\n",
            "{}\n"
          ]
        }
      ]
    }
  ]
}